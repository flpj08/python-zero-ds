{
 "cells": [
  {
   "cell_type": "markdown",
   "source": [
    "# Quais imóveis a House Rocket deveria comprar e por qual preço de compra?\r\n",
    "Tabela de recomendações de compra ou não compra.\r\n",
    "\r\n",
    "Os imóveis serão considerados 'bons para comprar' se respeitarem as seguintes regras:<br>\r\n",
    " *1- O preço do imóvel precisava estar abaixo do valor da mediana da região*<br>\r\n",
    " *2- A condição do imóvel precisava estar boa, ou seja, maior ou igual a 3.*<br>\r\n",
    " Com isso, será criada uma tabela chamada purchase_table, no formato '.csv', contendo as seguintes informações: id, zipcode, price, median_price, condition, buy."
   ],
   "metadata": {}
  },
  {
   "cell_type": "code",
   "execution_count": 2,
   "source": [
    "#Libraries\r\n",
    "import pandas as pd\r\n",
    "\r\n",
    "#Functions\r\n",
    "def get_data(path):\r\n",
    "    data = pd.read_csv(path)\r\n",
    "    \r\n",
    "    return data\r\n",
    "\r\n",
    "#Loading data\r\n",
    "data = get_data('datasets/kc_house_data.csv')\r\n",
    "\r\n",
    "pd.options.display.float_format = '{:.2f}'.format"
   ],
   "outputs": [],
   "metadata": {}
  },
  {
   "cell_type": "code",
   "execution_count": 3,
   "source": [
    "df = data[['id', 'zipcode', 'price', 'condition']].copy()\r\n",
    "df_zip = df[['price', 'zipcode']].groupby('zipcode').median().reset_index()\r\n",
    "df_zip.columns = ('zipcode', 'median_price')\r\n",
    "df= pd.merge(df, df_zip, on='zipcode', how='inner')"
   ],
   "outputs": [],
   "metadata": {
    "ExecuteTime": {
     "end_time": "2021-07-17T14:12:26.828220Z",
     "start_time": "2021-07-17T14:12:26.411938Z"
    }
   }
  },
  {
   "cell_type": "code",
   "execution_count": 4,
   "source": [
    "df['buy'] = 'No'\r\n",
    "for i in range(len(df)):\r\n",
    "    if (df.loc[i,'price'] < df.loc[i,'median_price']) & (df.loc[i,'condition'] >= 3) :\r\n",
    "        df.loc[i,'buy'] = 'Yes' \r\n"
   ],
   "outputs": [],
   "metadata": {
    "ExecuteTime": {
     "end_time": "2021-07-17T14:12:36.939895Z",
     "start_time": "2021-07-17T14:12:29.553794Z"
    },
    "scrolled": false
   }
  },
  {
   "cell_type": "code",
   "execution_count": 5,
   "source": [
    "df = df[['id','zipcode','price','median_price','condition','buy']]\r\n",
    "purchase_recommended = df[df['buy'] == 'Yes'].copy()\r\n",
    "purchase_recommended.drop_duplicates(subset='id', keep='first', inplace=True)\r\n",
    "purchase_recommended.to_csv('datasets/purchase_table.csv', index=False)\r\n",
    "purchase_recommended\r\n"
   ],
   "outputs": [
    {
     "output_type": "execute_result",
     "data": {
      "text/plain": [
       "               id  zipcode      price  median_price  condition  buy\n",
       "0      7129300520    98178  221900.00     278277.00          3  Yes\n",
       "1      4060000240    98178  205425.00     278277.00          4  Yes\n",
       "3      2976800796    98178  236000.00     278277.00          3  Yes\n",
       "4      6874200960    98178  170000.00     278277.00          3  Yes\n",
       "5      4268200055    98178  245000.00     278277.00          3  Yes\n",
       "...           ...      ...        ...           ...        ...  ...\n",
       "21600  3025300225    98039 1450000.00    1892500.00          4  Yes\n",
       "21601  2470200020    98039 1880000.00    1892500.00          4  Yes\n",
       "21603  3625049079    98039 1350000.00    1892500.00          3  Yes\n",
       "21605  5427100150    98039 1410000.00    1892500.00          3  Yes\n",
       "21612  3262300818    98039 1865000.00    1892500.00          3  Yes\n",
       "\n",
       "[10502 rows x 6 columns]"
      ],
      "text/html": [
       "<div>\n",
       "<style scoped>\n",
       "    .dataframe tbody tr th:only-of-type {\n",
       "        vertical-align: middle;\n",
       "    }\n",
       "\n",
       "    .dataframe tbody tr th {\n",
       "        vertical-align: top;\n",
       "    }\n",
       "\n",
       "    .dataframe thead th {\n",
       "        text-align: right;\n",
       "    }\n",
       "</style>\n",
       "<table border=\"1\" class=\"dataframe\">\n",
       "  <thead>\n",
       "    <tr style=\"text-align: right;\">\n",
       "      <th></th>\n",
       "      <th>id</th>\n",
       "      <th>zipcode</th>\n",
       "      <th>price</th>\n",
       "      <th>median_price</th>\n",
       "      <th>condition</th>\n",
       "      <th>buy</th>\n",
       "    </tr>\n",
       "  </thead>\n",
       "  <tbody>\n",
       "    <tr>\n",
       "      <th>0</th>\n",
       "      <td>7129300520</td>\n",
       "      <td>98178</td>\n",
       "      <td>221900.00</td>\n",
       "      <td>278277.00</td>\n",
       "      <td>3</td>\n",
       "      <td>Yes</td>\n",
       "    </tr>\n",
       "    <tr>\n",
       "      <th>1</th>\n",
       "      <td>4060000240</td>\n",
       "      <td>98178</td>\n",
       "      <td>205425.00</td>\n",
       "      <td>278277.00</td>\n",
       "      <td>4</td>\n",
       "      <td>Yes</td>\n",
       "    </tr>\n",
       "    <tr>\n",
       "      <th>3</th>\n",
       "      <td>2976800796</td>\n",
       "      <td>98178</td>\n",
       "      <td>236000.00</td>\n",
       "      <td>278277.00</td>\n",
       "      <td>3</td>\n",
       "      <td>Yes</td>\n",
       "    </tr>\n",
       "    <tr>\n",
       "      <th>4</th>\n",
       "      <td>6874200960</td>\n",
       "      <td>98178</td>\n",
       "      <td>170000.00</td>\n",
       "      <td>278277.00</td>\n",
       "      <td>3</td>\n",
       "      <td>Yes</td>\n",
       "    </tr>\n",
       "    <tr>\n",
       "      <th>5</th>\n",
       "      <td>4268200055</td>\n",
       "      <td>98178</td>\n",
       "      <td>245000.00</td>\n",
       "      <td>278277.00</td>\n",
       "      <td>3</td>\n",
       "      <td>Yes</td>\n",
       "    </tr>\n",
       "    <tr>\n",
       "      <th>...</th>\n",
       "      <td>...</td>\n",
       "      <td>...</td>\n",
       "      <td>...</td>\n",
       "      <td>...</td>\n",
       "      <td>...</td>\n",
       "      <td>...</td>\n",
       "    </tr>\n",
       "    <tr>\n",
       "      <th>21600</th>\n",
       "      <td>3025300225</td>\n",
       "      <td>98039</td>\n",
       "      <td>1450000.00</td>\n",
       "      <td>1892500.00</td>\n",
       "      <td>4</td>\n",
       "      <td>Yes</td>\n",
       "    </tr>\n",
       "    <tr>\n",
       "      <th>21601</th>\n",
       "      <td>2470200020</td>\n",
       "      <td>98039</td>\n",
       "      <td>1880000.00</td>\n",
       "      <td>1892500.00</td>\n",
       "      <td>4</td>\n",
       "      <td>Yes</td>\n",
       "    </tr>\n",
       "    <tr>\n",
       "      <th>21603</th>\n",
       "      <td>3625049079</td>\n",
       "      <td>98039</td>\n",
       "      <td>1350000.00</td>\n",
       "      <td>1892500.00</td>\n",
       "      <td>3</td>\n",
       "      <td>Yes</td>\n",
       "    </tr>\n",
       "    <tr>\n",
       "      <th>21605</th>\n",
       "      <td>5427100150</td>\n",
       "      <td>98039</td>\n",
       "      <td>1410000.00</td>\n",
       "      <td>1892500.00</td>\n",
       "      <td>3</td>\n",
       "      <td>Yes</td>\n",
       "    </tr>\n",
       "    <tr>\n",
       "      <th>21612</th>\n",
       "      <td>3262300818</td>\n",
       "      <td>98039</td>\n",
       "      <td>1865000.00</td>\n",
       "      <td>1892500.00</td>\n",
       "      <td>3</td>\n",
       "      <td>Yes</td>\n",
       "    </tr>\n",
       "  </tbody>\n",
       "</table>\n",
       "<p>10502 rows × 6 columns</p>\n",
       "</div>"
      ]
     },
     "metadata": {},
     "execution_count": 5
    }
   ],
   "metadata": {
    "ExecuteTime": {
     "end_time": "2021-07-17T14:25:56.995706Z",
     "start_time": "2021-07-17T14:25:56.829806Z"
    },
    "scrolled": true
   }
  }
 ],
 "metadata": {
  "orig_nbformat": 4,
  "language_info": {
   "name": "python",
   "version": "3.8.10",
   "mimetype": "text/x-python",
   "codemirror_mode": {
    "name": "ipython",
    "version": 3
   },
   "pygments_lexer": "ipython3",
   "nbconvert_exporter": "python",
   "file_extension": ".py"
  },
  "kernelspec": {
   "name": "python3",
   "display_name": "Python 3.8.10 64-bit ('house-app1': conda)"
  },
  "interpreter": {
   "hash": "cb7f4f565b01d0592da8c6b41402bf2274fac44ce917be0d09e2c56e02cbed88"
  }
 },
 "nbformat": 4,
 "nbformat_minor": 2
}